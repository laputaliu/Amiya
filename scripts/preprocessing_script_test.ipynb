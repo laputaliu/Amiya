{
 "cells": [
  {
   "cell_type": "code",
   "execution_count": 2,
   "id": "6e9ab5ce-1aeb-48b2-a6e5-3f9318cde2a9",
   "metadata": {},
   "outputs": [],
   "source": [
    "import importlib\n",
    "import os\n",
    "os.environ['R_HOME'] = '/fs/home/liuzhaoyang/biosoft/mambaforge/envs/MS/lib/R'\n",
    "import sys\n",
    "sys.path.append('/fs/home/liuzhaoyang/project/MetaSpace/scripts/')\n",
    "import preprocessing as MSpre\n",
    "import processing as MSpp\n",
    "import model as MS\n",
    "\n",
    "\n",
    "# \n",
    "import pandas as pd\n",
    "import numpy as np\n",
    "import scanpy as sc\n",
    "from pathlib import Path\n",
    "import logging\n",
    "\n",
    "import torch\n",
    "\n",
    "import anndata2ri\n",
    "from rpy2.robjects.packages import importr\n",
    "from rpy2.robjects import r, pandas2ri"
   ]
  },
  {
   "cell_type": "code",
   "execution_count": 4,
   "id": "dc3d05ef-6f75-4e6d-9e7f-7c8373676be7",
   "metadata": {},
   "outputs": [],
   "source": [
    "# os.environ['R_HOME'] = '/fs/home/liuzhaoyang/biosoft/mambaforge/envs/MetaSpace/lib/R'\n",
    "# %load_ext rpy2.ipython"
   ]
  },
  {
   "cell_type": "code",
   "execution_count": 109,
   "id": "cb4859d2-5889-4282-b28c-522e1107333a",
   "metadata": {
    "tags": []
   },
   "outputs": [
    {
     "data": {
      "text/plain": [
       "<module 'preprocessing' from '/fs/home/liuzhaoyang/project/MetaSpace/scripts/preprocessing.py'>"
      ]
     },
     "execution_count": 109,
     "metadata": {},
     "output_type": "execute_result"
    }
   ],
   "source": [
    "importlib.reload(MSpre)\n",
    "# importlib.reload(MS)"
   ]
  },
  {
   "cell_type": "markdown",
   "id": "105260e3-0f0b-4263-aa43-44509b15c0c1",
   "metadata": {},
   "source": [
    "## tested"
   ]
  },
  {
   "cell_type": "markdown",
   "id": "38b45a50-164a-436c-8d51-8609d0841910",
   "metadata": {},
   "source": [
    "- load_ST_data"
   ]
  },
  {
   "cell_type": "code",
   "execution_count": null,
   "id": "d2fbebfc-3a59-4bac-bec6-2d7523b334f1",
   "metadata": {},
   "outputs": [],
   "source": []
  },
  {
   "cell_type": "code",
   "execution_count": 84,
   "id": "318148f1-a416-4f29-8e3c-9a4eeb1426a9",
   "metadata": {},
   "outputs": [
    {
     "name": "stderr",
     "output_type": "stream",
     "text": [
      "/fs/home/liuzhaoyang/biosoft/anaconda3/envs/MetaSpace/lib/python3.11/site-packages/anndata/_core/anndata.py:1832: UserWarning: Variable names are not unique. To make them unique, call `.var_names_make_unique`.\n",
      "  utils.warn_names_duplicates(\"var\")\n"
     ]
    }
   ],
   "source": [
    "tnp_obj = sc.read_10x_h5('/mnt/Venus/home/liuzhaoyang/data/10x_online_ST_datasets/CytAssist_11mm_FFPE_Human_Colorectal_Cancer/CytAssist_11mm_FFPE_Human_Colorectal_Cancer_filtered_feature_bc_matrix.h5')"
   ]
  },
  {
   "cell_type": "code",
   "execution_count": 85,
   "id": "dbbff0a0-9b92-4704-b5c9-c2158b2c6e61",
   "metadata": {},
   "outputs": [
    {
     "data": {
      "text/plain": [
       "AnnData object with n_obs × n_vars = 9080 × 18085\n",
       "    var: 'gene_ids', 'feature_types', 'genome'"
      ]
     },
     "execution_count": 85,
     "metadata": {},
     "output_type": "execute_result"
    }
   ],
   "source": [
    "tnp_obj"
   ]
  },
  {
   "cell_type": "code",
   "execution_count": 86,
   "id": "ff03b931-9745-41a1-9180-0e0462b5086b",
   "metadata": {},
   "outputs": [
    {
     "data": {
      "text/plain": [
       "Index(['SAMD11', 'NOC2L', 'KLHL17', 'PLEKHN1', 'PERM1', 'HES4', 'ISG15',\n",
       "       'AGRN', 'RNF223', 'C1orf159',\n",
       "       ...\n",
       "       'MT-ND2', 'MT-CO2', 'MT-ATP6', 'MT-CO3', 'MT-ND3', 'MT-ND4L', 'MT-ND4',\n",
       "       'MT-ND5', 'MT-ND6', 'MT-CYB'],\n",
       "      dtype='object', length=18085)"
      ]
     },
     "execution_count": 86,
     "metadata": {},
     "output_type": "execute_result"
    }
   ],
   "source": [
    "tnp_obj.var_names"
   ]
  },
  {
   "cell_type": "code",
   "execution_count": 30,
   "id": "48727616-3dad-44e0-90a8-6f48f99d48ec",
   "metadata": {},
   "outputs": [],
   "source": [
    "tnp_obj.var_names_make_unique()"
   ]
  },
  {
   "cell_type": "code",
   "execution_count": 31,
   "id": "b45afe61-2c59-40aa-8883-050dd45e5fd4",
   "metadata": {},
   "outputs": [
    {
     "data": {
      "text/plain": [
       "AnnData object with n_obs × n_vars = 9080 × 18085\n",
       "    var: 'gene_ids', 'feature_types', 'genome'"
      ]
     },
     "execution_count": 31,
     "metadata": {},
     "output_type": "execute_result"
    }
   ],
   "source": [
    "tnp_obj"
   ]
  },
  {
   "cell_type": "code",
   "execution_count": 23,
   "id": "14dd36f1-a535-4b35-8d70-0bc313092bca",
   "metadata": {},
   "outputs": [],
   "source": [
    "tmp_df = pd.read_csv('/mnt/Venus/home/liuzhaoyang/data/10x_online_ST_datasets/CytAssist_11mm_FFPE_Human_Colorectal_Cancer/ST_sct_counts.tsv',\n",
    "                    sep='\\t')"
   ]
  },
  {
   "cell_type": "code",
   "execution_count": null,
   "id": "86a57d7d-aa54-47f7-8efd-10f109a2c7a4",
   "metadata": {},
   "outputs": [],
   "source": []
  },
  {
   "cell_type": "code",
   "execution_count": null,
   "id": "0d940598-7487-4605-a832-f5a80260a2bc",
   "metadata": {},
   "outputs": [],
   "source": [
    "tnp_obj = SCTransform(tnp_obj,\n",
    "                        min_cells=5,\n",
    "                        gmean_eps=1,\n",
    "                        n_genes=2000,\n",
    "                        n_cells=None, #use all cells\n",
    "                        bin_size=500,\n",
    "                        bw_adjust=3,\n",
    "                    inplace=False)\n",
    "\n"
   ]
  },
  {
   "cell_type": "code",
   "execution_count": 77,
   "id": "f9ba2710-63c4-41de-a46e-3dcaa6e2fd85",
   "metadata": {},
   "outputs": [
    {
     "name": "stdout",
     "output_type": "stream",
     "text": [
      "Object `SCTransform` not found.\n"
     ]
    }
   ],
   "source": [
    "?SCTransform"
   ]
  },
  {
   "cell_type": "code",
   "execution_count": 83,
   "id": "ccf98abd-365d-4834-8eca-c6575fe9be44",
   "metadata": {},
   "outputs": [
    {
     "data": {
      "text/plain": [
       "Index(['AACAATCCGAGTGGAC-1', 'AACAATGGAACCACAT-1', 'AACAATTATCTGCGCC-1',\n",
       "       'AACACCAGCCTACTCG-1', 'AACACCATTCGCATAC-1', 'AACACCGAATGTCTCA-1',\n",
       "       'AACACCGAGCTTGGAT-1', 'AACACCTAAGCATTGC-1', 'AACACGCAGATAACAA-1',\n",
       "       'AACACGGCACCGATAG-1',\n",
       "       ...\n",
       "       'TGTTGCCGGAATGATC-1', 'TGTTGCCGTTCGACCA-1', 'TGTTGCTCGATGTCTG-1',\n",
       "       'TGTTGGATAGATCAGA-1', 'TGTTGGCCTGTAGCGG-1', 'TGTTGGTGAGCGGACG-1',\n",
       "       'TGTTGGTGCGCACGAG-1', 'TGTTGGTGCGCTTCGC-1', 'TGTTGGTGCGGAATCA-1',\n",
       "       'TGTTGGTGGACTCAGG-1'],\n",
       "      dtype='object', length=9080)"
      ]
     },
     "execution_count": 83,
     "metadata": {},
     "output_type": "execute_result"
    }
   ],
   "source": [
    "tmp_obj.var_names"
   ]
  },
  {
   "cell_type": "code",
   "execution_count": 7,
   "id": "ad1ec373-c8c9-4e16-aee2-6b7777e2d7f8",
   "metadata": {},
   "outputs": [],
   "source": [
    "tmp_obj = MSpre.prepare_ST('/mnt/Venus/home/liuzhaoyang/data/10x_online_ST_datasets/CytAssist_11mm_FFPE_Human_Colorectal_Cancer/ST_sct_counts.tsv',\n",
    "                           '',\n",
    "                          sample_prefix='G1')"
   ]
  },
  {
   "cell_type": "code",
   "execution_count": 111,
   "id": "098ab1bb-28b9-423f-9cca-8730384af206",
   "metadata": {},
   "outputs": [
    {
     "data": {
      "text/plain": [
       "AnnData object with n_obs × n_vars = 9080 × 18066"
      ]
     },
     "execution_count": 111,
     "metadata": {},
     "output_type": "execute_result"
    }
   ],
   "source": [
    "tmp_obj"
   ]
  },
  {
   "cell_type": "code",
   "execution_count": null,
   "id": "3ff4ab9e-344e-4354-be5e-3c8e82a0d8b3",
   "metadata": {},
   "outputs": [],
   "source": [
    "# -------------------------- #\n",
    "# SCTransform v2 Seurat ver. #\n",
    "# -------------------------- #\n",
    "\n",
    "anndata2ri.activate()\n",
    "pandas2ri.activate()\n",
    "\n",
    "seurat = importr('Seurat')\n",
    "mat = tmp_obj.X\n",
    "\n",
    "# Set names for the input matrix\n",
    "cell_names = tmp_obj.obs_names\n",
    "gene_names = tmp_obj.var_names\n",
    "r.assign('mat', mat.T)\n",
    "r.assign('cell_names', cell_names)\n",
    "r.assign('gene_names', gene_names)\n",
    "r('colnames(mat) <- cell_names')\n",
    "r('rownames(mat) <- gene_names')\n",
    "\n",
    "seurat = importr('Seurat')\n",
    "r('seurat_obj <- CreateSeuratObject(mat)')\n",
    "\n",
    "# Run\n",
    "r('seurat_obj <- SCTransform(seurat_obj, verbose=F, vst.flavor=\"v2\")')\n",
    "\n",
    "filter_genes = r('rownames(mat)[!rownames(mat) %in% rownames(seurat_obj)]')\n",
    "tmp_obj = tmp_obj[:,~np.isin(tmp_obj.var_names, filter_genes)]\n",
    "\n",
    "# ----------- #\n",
    "# write files #\n",
    "# ----------- #\n",
    "\n",
    "# ST raw counts\n",
    "tmp_out = pd.DataFrame(tmp_obj.X).T\n",
    "tmp_out.index = tmp_obj.var_names\n",
    "tmp_out.columns = tmp_obj.obs_names\n",
    "tmp_out.to_csv(Path(save_dir,'ST_counts.tsv'), sep='\\t')\n",
    "\n",
    "# ST SCT normalized\n",
    "tmp_out = pd.DataFrame(r['as.matrix'](r('seurat_obj@assays$SCT@data')))\n",
    "tmp_out.index = r('rownames(seurat_obj@assays$SCT@data)')\n",
    "tmp_out.columns = r('colnames(seurat_obj@assays$SCT@data)')\n",
    "tmp_out.to_csv(Path(save_dir,'ST_sct_norm.tsv'), sep='\\t')\n",
    "tmp_obj.layers['SCT_data'] = tmp_out.T\n",
    "\n",
    "# ST SCT updated counts\n",
    "tmp_out = pd.DataFrame(r['as.matrix'](r('seurat_obj@assays$SCT@counts')))\n",
    "tmp_out.index = r('rownames(seurat_obj@assays$SCT@counts)')\n",
    "tmp_out.columns = r('colnames(seurat_obj@assays$SCT@counts)')\n",
    "tmp_out.to_csv(Path(save_dir,'ST_sct_counts.tsv'), sep='\\t')\n",
    "tmp_obj.layers['SCT_counts'] = tmp_out.T\n",
    "\n",
    "# save scanpy obj\n",
    "tmp_obj.write_h5ad(Path('ST_sct_obj.h5ad'))"
   ]
  },
  {
   "cell_type": "code",
   "execution_count": null,
   "id": "0f178584-f3fd-468d-9823-15f4ca3958d9",
   "metadata": {},
   "outputs": [],
   "source": []
  },
  {
   "cell_type": "code",
   "execution_count": null,
   "id": "3d6107b1-3235-4b15-a485-644bff20b9ed",
   "metadata": {},
   "outputs": [],
   "source": []
  },
  {
   "cell_type": "code",
   "execution_count": null,
   "id": "cbf84a0a-8565-4c90-bdad-eb7c6339bdda",
   "metadata": {},
   "outputs": [],
   "source": []
  }
 ],
 "metadata": {
  "kernelspec": {
   "display_name": "MS",
   "language": "python",
   "name": "ms"
  },
  "language_info": {
   "codemirror_mode": {
    "name": "ipython",
    "version": 3
   },
   "file_extension": ".py",
   "mimetype": "text/x-python",
   "name": "python",
   "nbconvert_exporter": "python",
   "pygments_lexer": "ipython3",
   "version": "3.11.0"
  }
 },
 "nbformat": 4,
 "nbformat_minor": 5
}
